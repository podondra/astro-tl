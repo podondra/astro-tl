{
 "cells": [
  {
   "cell_type": "markdown",
   "metadata": {},
   "source": [
    "# Evaluation"
   ]
  },
  {
   "cell_type": "code",
   "execution_count": 1,
   "metadata": {},
   "outputs": [],
   "source": [
    "from functools import partial\n",
    "\n",
    "import h5py\n",
    "import numpy as np\n",
    "import pandas as pd\n",
    "from sklearn import metrics\n",
    "import torch\n",
    "from torch.utils.data import DataLoader, TensorDataset\n",
    "\n",
    "import convnets"
   ]
  },
  {
   "cell_type": "code",
   "execution_count": 2,
   "metadata": {},
   "outputs": [],
   "source": [
    "N_WAVES = 2048"
   ]
  },
  {
   "cell_type": "markdown",
   "metadata": {},
   "source": [
    "## Different Architectures of VGG Net on SDSS\n",
    "\n",
    "- metrics on validation set of SDSS"
   ]
  },
  {
   "cell_type": "code",
   "execution_count": 3,
   "metadata": {},
   "outputs": [],
   "source": [
    "with h5py.File(\"sdss_dr14.hdf5\", \"r\") as datafile:\n",
    "    grp = datafile['2048_zwarning==0']\n",
    "    X_sdss_va = torch.from_numpy(grp[\"X_va\"][:].reshape(-1, 1, N_WAVES))\n",
    "    y_sdss_va = grp[\"y_va\"][:]"
   ]
  },
  {
   "cell_type": "code",
   "execution_count": 4,
   "metadata": {},
   "outputs": [],
   "source": [
    "def forward(model, X, dev=torch.device(\"cuda\")):\n",
    "    model = model.to(dev)\n",
    "    model.eval()\n",
    "    batch_size = 2 ** 15\n",
    "    dl = DataLoader(TensorDataset(X), batch_size=batch_size)\n",
    "    outputs = torch.zeros(X.size(0))\n",
    "    with torch.no_grad():\n",
    "        for i, [xb] in enumerate(dl):\n",
    "            xb = xb.to(dev)\n",
    "            start = i * batch_size\n",
    "            end = start + batch_size\n",
    "            outputs[start:end] = model(xb).cpu().detach().squeeze()\n",
    "    probas_pred = torch.sigmoid(outputs).numpy()\n",
    "    return probas_pred"
   ]
  },
  {
   "cell_type": "code",
   "execution_count": 5,
   "metadata": {},
   "outputs": [],
   "source": [
    "def evaluate(y_true, y_prob):\n",
    "    y_pred = y_prob > 0.5\n",
    "    return {\n",
    "        \"accuracy\": metrics.accuracy_score(y_true, y_pred),\n",
    "        \"f1_score\": metrics.f1_score(y_true, y_pred),\n",
    "        \"precision\": metrics.precision_score(y_true, y_pred),\n",
    "        \"recall\": metrics.recall_score(y_true, y_pred),\n",
    "        \"roc_auc\": metrics.roc_auc_score(y_true, y_prob)\n",
    "    }"
   ]
  },
  {
   "cell_type": "code",
   "execution_count": 6,
   "metadata": {},
   "outputs": [
    {
     "data": {
      "text/html": [
       "<div>\n",
       "<style scoped>\n",
       "    .dataframe tbody tr th:only-of-type {\n",
       "        vertical-align: middle;\n",
       "    }\n",
       "\n",
       "    .dataframe tbody tr th {\n",
       "        vertical-align: top;\n",
       "    }\n",
       "\n",
       "    .dataframe thead th {\n",
       "        text-align: right;\n",
       "    }\n",
       "</style>\n",
       "<table border=\"1\" class=\"dataframe\">\n",
       "  <thead>\n",
       "    <tr style=\"text-align: right;\">\n",
       "      <th></th>\n",
       "      <th>accuracy</th>\n",
       "      <th>f1_score</th>\n",
       "      <th>precision</th>\n",
       "      <th>recall</th>\n",
       "      <th>roc_auc</th>\n",
       "    </tr>\n",
       "  </thead>\n",
       "  <tbody>\n",
       "    <tr>\n",
       "      <th>VGG-Net-A</th>\n",
       "      <td>0.98710</td>\n",
       "      <td>0.958071</td>\n",
       "      <td>0.927035</td>\n",
       "      <td>0.991256</td>\n",
       "      <td>0.995796</td>\n",
       "    </tr>\n",
       "    <tr>\n",
       "      <th>VGG-Net-B</th>\n",
       "      <td>0.98708</td>\n",
       "      <td>0.958036</td>\n",
       "      <td>0.926382</td>\n",
       "      <td>0.991929</td>\n",
       "      <td>0.996127</td>\n",
       "    </tr>\n",
       "    <tr>\n",
       "      <th>VGG-Net-E</th>\n",
       "      <td>0.98700</td>\n",
       "      <td>0.957682</td>\n",
       "      <td>0.927959</td>\n",
       "      <td>0.989373</td>\n",
       "      <td>0.995838</td>\n",
       "    </tr>\n",
       "    <tr>\n",
       "      <th>VGG-Net-D</th>\n",
       "      <td>0.98690</td>\n",
       "      <td>0.957371</td>\n",
       "      <td>0.927374</td>\n",
       "      <td>0.989373</td>\n",
       "      <td>0.995776</td>\n",
       "    </tr>\n",
       "    <tr>\n",
       "      <th>VGG-Net-5</th>\n",
       "      <td>0.98690</td>\n",
       "      <td>0.957371</td>\n",
       "      <td>0.927374</td>\n",
       "      <td>0.989373</td>\n",
       "      <td>0.996394</td>\n",
       "    </tr>\n",
       "    <tr>\n",
       "      <th>VGG-Net-4</th>\n",
       "      <td>0.98638</td>\n",
       "      <td>0.955719</td>\n",
       "      <td>0.924984</td>\n",
       "      <td>0.988566</td>\n",
       "      <td>0.996411</td>\n",
       "    </tr>\n",
       "    <tr>\n",
       "      <th>VGG-Net-3</th>\n",
       "      <td>0.98488</td>\n",
       "      <td>0.950614</td>\n",
       "      <td>0.924054</td>\n",
       "      <td>0.978746</td>\n",
       "      <td>0.996030</td>\n",
       "    </tr>\n",
       "    <tr>\n",
       "      <th>VGG-Net-1</th>\n",
       "      <td>0.98464</td>\n",
       "      <td>0.949817</td>\n",
       "      <td>0.923507</td>\n",
       "      <td>0.977670</td>\n",
       "      <td>0.995432</td>\n",
       "    </tr>\n",
       "    <tr>\n",
       "      <th>VGG-Net-0</th>\n",
       "      <td>0.98332</td>\n",
       "      <td>0.945802</td>\n",
       "      <td>0.914886</td>\n",
       "      <td>0.978881</td>\n",
       "      <td>0.994245</td>\n",
       "    </tr>\n",
       "    <tr>\n",
       "      <th>VGG-Net-2</th>\n",
       "      <td>0.98308</td>\n",
       "      <td>0.944612</td>\n",
       "      <td>0.920153</td>\n",
       "      <td>0.970406</td>\n",
       "      <td>0.995417</td>\n",
       "    </tr>\n",
       "  </tbody>\n",
       "</table>\n",
       "</div>"
      ],
      "text/plain": [
       "           accuracy  f1_score  precision    recall   roc_auc\n",
       "VGG-Net-A   0.98710  0.958071   0.927035  0.991256  0.995796\n",
       "VGG-Net-B   0.98708  0.958036   0.926382  0.991929  0.996127\n",
       "VGG-Net-E   0.98700  0.957682   0.927959  0.989373  0.995838\n",
       "VGG-Net-D   0.98690  0.957371   0.927374  0.989373  0.995776\n",
       "VGG-Net-5   0.98690  0.957371   0.927374  0.989373  0.996394\n",
       "VGG-Net-4   0.98638  0.955719   0.924984  0.988566  0.996411\n",
       "VGG-Net-3   0.98488  0.950614   0.924054  0.978746  0.996030\n",
       "VGG-Net-1   0.98464  0.949817   0.923507  0.977670  0.995432\n",
       "VGG-Net-0   0.98332  0.945802   0.914886  0.978881  0.994245\n",
       "VGG-Net-2   0.98308  0.944612   0.920153  0.970406  0.995417"
      ]
     },
     "execution_count": 6,
     "metadata": {},
     "output_type": "execute_result"
    }
   ],
   "source": [
    "sdss_metrics = pd.DataFrame()\n",
    "for convnet in convnets.CONVNETS:\n",
    "    model = convnets.get_convnet(convnet)\n",
    "    model.load_state_dict(torch.load(\"models/{}.pt\".format(convnet)))\n",
    "    series = pd.Series(evaluate(y_sdss_va, forward(model, X_sdss_va)), name=convnet)\n",
    "    sdss_metrics = sdss_metrics.append(series)\n",
    "sdss_metrics.sort_values(\"f1_score\", ascending=False)"
   ]
  },
  {
   "cell_type": "markdown",
   "metadata": {},
   "source": [
    "## VGG Net-A on SDSS\n",
    "\n",
    "- evaluation on test set of SDSS\n",
    "- correct precision\n",
    "- candidates from all filtered data of SDSS"
   ]
  },
  {
   "cell_type": "code",
   "execution_count": 7,
   "metadata": {},
   "outputs": [
    {
     "data": {
      "text/plain": [
       "{'accuracy': 0.98651,\n",
       " 'f1_score': 0.9549748005740796,\n",
       " 'precision': 0.9221348459455975,\n",
       " 'recall': 0.9902401882743822,\n",
       " 'roc_auc': 0.9959838932114625}"
      ]
     },
     "execution_count": 7,
     "metadata": {},
     "output_type": "execute_result"
    }
   ],
   "source": [
    "with h5py.File(\"sdss_dr14.hdf5\", \"r\") as datafile:\n",
    "    grp = datafile['2048_zwarning==0']\n",
    "    X_sdss_te = torch.from_numpy(grp[\"X_te\"][:].reshape(-1, 1, N_WAVES))\n",
    "    y_sdss_te = grp[\"y_te\"][:]\n",
    "\n",
    "model_sdss = convnets.get_convnet(\"VGG-Net-A\")\n",
    "model_sdss.load_state_dict(torch.load(\"models/VGG-Net-A.pt\"))\n",
    "y_sdss_prob_te = forward(model_sdss, X_sdss_te)\n",
    "evaluate(y_sdss_te, y_sdss_prob_te)"
   ]
  },
  {
   "cell_type": "code",
   "execution_count": 8,
   "metadata": {},
   "outputs": [
    {
     "data": {
      "text/plain": [
       "array([[84345,  1208],\n",
       "       [  141, 14306]])"
      ]
     },
     "execution_count": 8,
     "metadata": {},
     "output_type": "execute_result"
    }
   ],
   "source": [
    "metrics.confusion_matrix(y_sdss_te, y_sdss_prob_te > 0.5)"
   ]
  },
  {
   "cell_type": "code",
   "execution_count": 9,
   "metadata": {},
   "outputs": [],
   "source": [
    "# TODO correct presion: discuss with Petr first"
   ]
  },
  {
   "cell_type": "code",
   "execution_count": 10,
   "metadata": {},
   "outputs": [],
   "source": [
    "with h5py.File(\"sdss_dr14.hdf5\", \"r\") as datafile:\n",
    "    grp = datafile[\"2048_zwarning==0\"]\n",
    "    X_tr = grp[\"X_tr\"][:].reshape(-1, 1, N_WAVES)\n",
    "    X_va = grp[\"X_va\"][:].reshape(-1, 1, N_WAVES)\n",
    "    X_te = grp[\"X_te\"][:].reshape(-1, 1, N_WAVES)\n",
    "    id_tr, id_va, id_te = grp[\"id_tr\"][:], grp[\"id_va\"][:], grp[\"id_te\"][:]\n",
    "    y_tr, y_va, y_te = grp[\"y_tr\"][:], grp[\"y_va\"][:], grp[\"y_te\"][:]\n",
    "\n",
    "X_sdss = torch.from_numpy(np.concatenate((X_tr, X_va, X_te)))\n",
    "id_sdss = np.concatenate((id_tr, id_va, id_te))\n",
    "y_sdss = np.concatenate((y_tr, y_va, y_te))"
   ]
  },
  {
   "cell_type": "code",
   "execution_count": 11,
   "metadata": {},
   "outputs": [
    {
     "data": {
      "text/plain": [
       "643356"
      ]
     },
     "execution_count": 11,
     "metadata": {},
     "output_type": "execute_result"
    }
   ],
   "source": [
    "y_sdss_prob = forward(model_sdss, X_sdss)\n",
    "y_sdss_pred = y_sdss_prob > 0.5\n",
    "y_sdss_pred.sum()"
   ]
  },
  {
   "cell_type": "code",
   "execution_count": 12,
   "metadata": {},
   "outputs": [
    {
     "data": {
      "text/plain": [
       "array([[3491811,   49111],\n",
       "       [   5348,  594245]])"
      ]
     },
     "execution_count": 12,
     "metadata": {},
     "output_type": "execute_result"
    }
   ],
   "source": [
    "metrics.confusion_matrix(y_sdss, y_sdss_pred)"
   ]
  },
  {
   "cell_type": "code",
   "execution_count": 13,
   "metadata": {},
   "outputs": [
    {
     "data": {
      "text/plain": [
       "array([(8189, 57448, 341), (8747, 57401, 644), (8290, 57364, 989), ...,\n",
       "       ( 440, 51885, 511), (7300, 56707,  89), (6060, 56074, 569)],\n",
       "      dtype=[('plate', '<i4'), ('mjd', '<i4'), ('fiberid', '<i4')])"
      ]
     },
     "execution_count": 13,
     "metadata": {},
     "output_type": "execute_result"
    }
   ],
   "source": [
    "id_sdss[y_sdss_pred]"
   ]
  },
  {
   "cell_type": "code",
   "execution_count": 14,
   "metadata": {},
   "outputs": [],
   "source": [
    "savecsv = partial(np.savetxt, fmt=\"%i\", delimiter=',', header=\"plate,mjd,fiberid\", comments=\"\")\n",
    "savecsv(\"pred/sdss_pred.csv\", id_sdss[y_sdss_pred])"
   ]
  },
  {
   "cell_type": "code",
   "execution_count": 15,
   "metadata": {},
   "outputs": [],
   "source": [
    "sdss_candidates = id_sdss[(y_sdss == False) & (y_sdss_pred == True)]\n",
    "savecsv(\"pred/sdss_false_positive.csv\", sdss_candidates)"
   ]
  },
  {
   "cell_type": "markdown",
   "metadata": {},
   "source": [
    "## Training on LAMOST\n",
    "\n",
    "- evaluation on test set of LAMOST"
   ]
  },
  {
   "cell_type": "code",
   "execution_count": 16,
   "metadata": {},
   "outputs": [],
   "source": [
    "with h5py.File(\"lamost_dr5.hdf5\", \"r\") as datafile:\n",
    "    grp = datafile[\"2048_nofilter\"]\n",
    "    X_lamost_te = torch.from_numpy(grp[\"X_te\"][:].reshape(-1, 1, N_WAVES))\n",
    "    y_lamost_te = grp[\"y_te\"][:]"
   ]
  },
  {
   "cell_type": "code",
   "execution_count": 17,
   "metadata": {},
   "outputs": [
    {
     "data": {
      "text/plain": [
       "{'accuracy': 0.99692,\n",
       " 'f1_score': 0.5925925925925927,\n",
       " 'precision': 0.5586034912718204,\n",
       " 'recall': 0.6309859154929578,\n",
       " 'roc_auc': 0.9960557726407621}"
      ]
     },
     "execution_count": 17,
     "metadata": {},
     "output_type": "execute_result"
    }
   ],
   "source": [
    "model_lamost = convnets.get_convnet(\"VGG-Net-A\")\n",
    "model_lamost.load_state_dict(torch.load(\"models/lamost.pt\"))\n",
    "y_lamost_prob_te = forward(model_lamost, X_lamost_te)\n",
    "evaluate(y_lamost_te, y_lamost_prob_te)"
   ]
  },
  {
   "cell_type": "code",
   "execution_count": 18,
   "metadata": {},
   "outputs": [
    {
     "data": {
      "text/plain": [
       "array([[99468,   177],\n",
       "       [  131,   224]])"
      ]
     },
     "execution_count": 18,
     "metadata": {},
     "output_type": "execute_result"
    }
   ],
   "source": [
    "metrics.confusion_matrix(y_lamost_te, y_lamost_prob_te > 0.5)"
   ]
  },
  {
   "cell_type": "markdown",
   "metadata": {},
   "source": [
    "## Transfer Learning from SDSS to LAMOST\n",
    "\n",
    "- evaluation on test set of SDSS\n",
    "- correct precision\n",
    "- candidats from all filtered data of SDSS"
   ]
  },
  {
   "cell_type": "code",
   "execution_count": 19,
   "metadata": {},
   "outputs": [
    {
     "data": {
      "text/plain": [
       "{'accuracy': 0.98607,\n",
       " 'f1_score': 0.9534844892643671,\n",
       " 'precision': 0.9210967741935484,\n",
       " 'recall': 0.9882328511109573,\n",
       " 'roc_auc': 0.9955160373082799}"
      ]
     },
     "execution_count": 19,
     "metadata": {},
     "output_type": "execute_result"
    }
   ],
   "source": [
    "model_tl = convnets.get_convnet(\"VGG-Net-A\")\n",
    "model_tl.load_state_dict(torch.load(\"models/sdss_transfer.pt\"))\n",
    "y_sdss_prob_te = forward(model_tl, X_sdss_te)\n",
    "evaluate(y_sdss_te, y_sdss_prob_te)"
   ]
  },
  {
   "cell_type": "code",
   "execution_count": 20,
   "metadata": {},
   "outputs": [
    {
     "data": {
      "text/plain": [
       "array([[84330,  1223],\n",
       "       [  170, 14277]])"
      ]
     },
     "execution_count": 20,
     "metadata": {},
     "output_type": "execute_result"
    }
   ],
   "source": [
    "metrics.confusion_matrix(y_sdss_te, y_sdss_prob_te > 0.5)"
   ]
  },
  {
   "cell_type": "code",
   "execution_count": 21,
   "metadata": {},
   "outputs": [
    {
     "data": {
      "text/plain": [
       "642550"
      ]
     },
     "execution_count": 21,
     "metadata": {},
     "output_type": "execute_result"
    }
   ],
   "source": [
    "y_tl_prob = forward(model_tl, X_sdss)\n",
    "y_tl_pred = y_tl_prob > 0.5\n",
    "y_tl_pred.sum()"
   ]
  },
  {
   "cell_type": "code",
   "execution_count": 22,
   "metadata": {},
   "outputs": [
    {
     "data": {
      "text/plain": [
       "array([[3491193,   49729],\n",
       "       [   6772,  592821]])"
      ]
     },
     "execution_count": 22,
     "metadata": {},
     "output_type": "execute_result"
    }
   ],
   "source": [
    "metrics.confusion_matrix(y_sdss, y_tl_pred)"
   ]
  },
  {
   "cell_type": "code",
   "execution_count": 23,
   "metadata": {},
   "outputs": [],
   "source": [
    "# TODO correct presion: discuss with Petr first"
   ]
  },
  {
   "cell_type": "code",
   "execution_count": 24,
   "metadata": {},
   "outputs": [],
   "source": [
    "savecsv(\"pred/tl_pred.csv\", id_sdss[y_tl_pred])"
   ]
  },
  {
   "cell_type": "code",
   "execution_count": 25,
   "metadata": {},
   "outputs": [],
   "source": [
    "tl_candidates = id_sdss[(y_sdss == False) & (y_tl_pred == True)]\n",
    "savecsv(\"pred/tl_false_positive.csv\", tl_candidates)"
   ]
  },
  {
   "cell_type": "markdown",
   "metadata": {},
   "source": [
    "## Benefits of Transfer Learning\n",
    "\n",
    "- comparison of SDSS and transfer learning candidates"
   ]
  },
  {
   "cell_type": "code",
   "execution_count": 26,
   "metadata": {},
   "outputs": [
    {
     "data": {
      "text/plain": [
       "3019"
      ]
     },
     "execution_count": 26,
     "metadata": {},
     "output_type": "execute_result"
    }
   ],
   "source": [
    "only_tl_idx = ~np.isin(tl_candidates, sdss_candidates)\n",
    "np.sum(only_tl_idx)"
   ]
  },
  {
   "cell_type": "code",
   "execution_count": 27,
   "metadata": {},
   "outputs": [],
   "source": [
    "only_tl_candidates = tl_candidates[only_tl_idx]\n",
    "savecsv(\"pred/only_tl_false_positive.csv\", only_tl_candidates)"
   ]
  }
 ],
 "metadata": {
  "kernelspec": {
   "display_name": "Python 3",
   "language": "python",
   "name": "python3"
  },
  "language_info": {
   "codemirror_mode": {
    "name": "ipython",
    "version": 3
   },
   "file_extension": ".py",
   "mimetype": "text/x-python",
   "name": "python",
   "nbconvert_exporter": "python",
   "pygments_lexer": "ipython3",
   "version": "3.7.2"
  }
 },
 "nbformat": 4,
 "nbformat_minor": 4
}
